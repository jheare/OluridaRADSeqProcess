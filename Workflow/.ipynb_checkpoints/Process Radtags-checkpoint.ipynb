{
 "cells": [
  {
   "cell_type": "markdown",
   "metadata": {},
   "source": [
    "# Processing RADtags"
   ]
  },
  {
   "cell_type": "markdown",
   "metadata": {},
   "source": [
    "RAD Sequencing Raw Data must be processed prior to using STACKS to generate sample fastq files for each set of sample reads. The samples can be found [here](place holder). These are gzipped files and can be run as such but for my purposes I have unzipped them in a local directory called lane1rad which is where I will keep the data to work with."
   ]
  },
  {
   "cell_type": "markdown",
   "metadata": {},
   "source": [
    "## Accessing RADseq Files"
   ]
  },
  {
   "cell_type": "code",
   "execution_count": 1,
   "metadata": {
    "collapsed": false
   },
   "outputs": [],
   "source": [
    "mkdir ./lane1rad"
   ]
  },
  {
   "cell_type": "markdown",
   "metadata": {},
   "source": [
    "Store all gzipped files in this directory. "
   ]
  },
  {
   "cell_type": "code",
   "execution_count": 15,
   "metadata": {
    "collapsed": false
   },
   "outputs": [
    {
     "name": "stdout",
     "output_type": "stream",
     "text": [
      "/Users/srlab/Fish546-Jake/Course Project/Workflow/lane1rad\n"
     ]
    }
   ],
   "source": [
    "cd lane1rad"
   ]
  },
  {
   "cell_type": "code",
   "execution_count": 4,
   "metadata": {
    "collapsed": false
   },
   "outputs": [
    {
     "name": "stdout",
     "output_type": "stream",
     "text": [
      "  % Total    % Received % Xferd  Average Speed   Time    Time     Time  Current\n",
      "                                 Dload  Upload   Total   Spent    Left  Speed\n",
      "100 1509M  100 1509M    0     0  78.2M      0  0:00:19  0:00:19 --:--:-- 58.5M\n"
     ]
    }
   ],
   "source": [
    "!curl -O http://owl.fish.washington.edu/nightingales/O_lurida/lane1_NoIndex_L001_R1_001.fastq.gz > ./land1rad"
   ]
  },
  {
   "cell_type": "code",
   "execution_count": 4,
   "metadata": {
    "collapsed": false
   },
   "outputs": [
    {
     "name": "stdout",
     "output_type": "stream",
     "text": [
      "  % Total    % Received % Xferd  Average Speed   Time    Time     Time  Current\n",
      "                                 Dload  Upload   Total   Spent    Left  Speed\n",
      "100 1509M  100 1509M    0     0  78.2M      0  0:00:19  0:00:19 --:--:-- 58.5M\n"
     ]
    }
   ],
   "source": [
    "!curl -O http://owl.fish.washington.edu/nightingales/O_lurida/lane1_NoIndex_L001_R1_002.fastq.gz > ./land1rad"
   ]
  },
  {
   "cell_type": "code",
   "execution_count": 4,
   "metadata": {
    "collapsed": false
   },
   "outputs": [
    {
     "name": "stdout",
     "output_type": "stream",
     "text": [
      "  % Total    % Received % Xferd  Average Speed   Time    Time     Time  Current\n",
      "                                 Dload  Upload   Total   Spent    Left  Speed\n",
      "100 1509M  100 1509M    0     0  78.2M      0  0:00:19  0:00:19 --:--:-- 58.5M\n"
     ]
    }
   ],
   "source": [
    "!curl -O http://owl.fish.washington.edu/nightingales/O_lurida/lane1_NoIndex_L001_R1_003.fastq.gz > ./land1rad"
   ]
  },
  {
   "cell_type": "code",
   "execution_count": 4,
   "metadata": {
    "collapsed": false
   },
   "outputs": [
    {
     "name": "stdout",
     "output_type": "stream",
     "text": [
      "  % Total    % Received % Xferd  Average Speed   Time    Time     Time  Current\n",
      "                                 Dload  Upload   Total   Spent    Left  Speed\n",
      "100 1509M  100 1509M    0     0  78.2M      0  0:00:19  0:00:19 --:--:-- 58.5M\n"
     ]
    }
   ],
   "source": [
    "!curl -O http://owl.fish.washington.edu/nightingales/O_lurida/lane1_NoIndex_L001_R1_004.fastq.gz > ./land1rad"
   ]
  },
  {
   "cell_type": "code",
   "execution_count": 4,
   "metadata": {
    "collapsed": false
   },
   "outputs": [
    {
     "name": "stdout",
     "output_type": "stream",
     "text": [
      "  % Total    % Received % Xferd  Average Speed   Time    Time     Time  Current\n",
      "                                 Dload  Upload   Total   Spent    Left  Speed\n",
      "100 1509M  100 1509M    0     0  78.2M      0  0:00:19  0:00:19 --:--:-- 58.5M\n"
     ]
    }
   ],
   "source": [
    "!curl -O http://owl.fish.washington.edu/nightingales/O_lurida/lane1_NoIndex_L001_R1_005.fastq.gz > ./land1rad"
   ]
  },
  {
   "cell_type": "code",
   "execution_count": 4,
   "metadata": {
    "collapsed": false
   },
   "outputs": [
    {
     "name": "stdout",
     "output_type": "stream",
     "text": [
      "  % Total    % Received % Xferd  Average Speed   Time    Time     Time  Current\n",
      "                                 Dload  Upload   Total   Spent    Left  Speed\n",
      "100 1509M  100 1509M    0     0  78.2M      0  0:00:19  0:00:19 --:--:-- 58.5M\n"
     ]
    }
   ],
   "source": [
    "!curl -O http://owl.fish.washington.edu/nightingales/O_lurida/lane1_NoIndex_L001_R1_006.fastq.gz > ./land1rad"
   ]
  },
  {
   "cell_type": "code",
   "execution_count": 4,
   "metadata": {
    "collapsed": false
   },
   "outputs": [
    {
     "name": "stdout",
     "output_type": "stream",
     "text": [
      "  % Total    % Received % Xferd  Average Speed   Time    Time     Time  Current\n",
      "                                 Dload  Upload   Total   Spent    Left  Speed\n",
      "100 1509M  100 1509M    0     0  78.2M      0  0:00:19  0:00:19 --:--:-- 58.5M\n"
     ]
    }
   ],
   "source": [
    "!curl -O http://owl.fish.washington.edu/nightingales/O_lurida/lane1_NoIndex_L001_R1_007.fastq.gz > ./land1rad"
   ]
  },
  {
   "cell_type": "code",
   "execution_count": 4,
   "metadata": {
    "collapsed": false
   },
   "outputs": [
    {
     "name": "stdout",
     "output_type": "stream",
     "text": [
      "  % Total    % Received % Xferd  Average Speed   Time    Time     Time  Current\n",
      "                                 Dload  Upload   Total   Spent    Left  Speed\n",
      "100 1509M  100 1509M    0     0  78.2M      0  0:00:19  0:00:19 --:--:-- 58.5M\n"
     ]
    }
   ],
   "source": [
    "!curl -O http://owl.fish.washington.edu/nightingales/O_lurida/lane1_NoIndex_L001_R1_008.fastq.gz > ./land1rad"
   ]
  },
  {
   "cell_type": "code",
   "execution_count": 4,
   "metadata": {
    "collapsed": false
   },
   "outputs": [
    {
     "name": "stdout",
     "output_type": "stream",
     "text": [
      "  % Total    % Received % Xferd  Average Speed   Time    Time     Time  Current\n",
      "                                 Dload  Upload   Total   Spent    Left  Speed\n",
      "100 1509M  100 1509M    0     0  78.2M      0  0:00:19  0:00:19 --:--:-- 58.5M\n"
     ]
    }
   ],
   "source": [
    "!curl -O http://owl.fish.washington.edu/nightingales/O_lurida/lane1_NoIndex_L001_R1_009.fastq.gz > ./land1rad"
   ]
  },
  {
   "cell_type": "code",
   "execution_count": 4,
   "metadata": {
    "collapsed": false
   },
   "outputs": [
    {
     "name": "stdout",
     "output_type": "stream",
     "text": [
      "  % Total    % Received % Xferd  Average Speed   Time    Time     Time  Current\n",
      "                                 Dload  Upload   Total   Spent    Left  Speed\n",
      "100 1509M  100 1509M    0     0  78.2M      0  0:00:19  0:00:19 --:--:-- 58.5M\n"
     ]
    }
   ],
   "source": [
    "!curl -O http://owl.fish.washington.edu/nightingales/O_lurida/lane1_NoIndex_L001_R1_010.fastq.gz > ./land1rad"
   ]
  },
  {
   "cell_type": "code",
   "execution_count": 4,
   "metadata": {
    "collapsed": false
   },
   "outputs": [
    {
     "name": "stdout",
     "output_type": "stream",
     "text": [
      "  % Total    % Received % Xferd  Average Speed   Time    Time     Time  Current\n",
      "                                 Dload  Upload   Total   Spent    Left  Speed\n",
      "100 1509M  100 1509M    0     0  78.2M      0  0:00:19  0:00:19 --:--:-- 58.5M\n"
     ]
    }
   ],
   "source": [
    "!curl -O http://owl.fish.washington.edu/nightingales/O_lurida/lane1_NoIndex_L001_R1_011.fastq.gz > ./land1rad"
   ]
  },
  {
   "cell_type": "code",
   "execution_count": 4,
   "metadata": {
    "collapsed": false
   },
   "outputs": [
    {
     "name": "stdout",
     "output_type": "stream",
     "text": [
      "  % Total    % Received % Xferd  Average Speed   Time    Time     Time  Current\n",
      "                                 Dload  Upload   Total   Spent    Left  Speed\n",
      "100 1509M  100 1509M    0     0  78.2M      0  0:00:19  0:00:19 --:--:-- 58.5M\n"
     ]
    }
   ],
   "source": [
    "!curl -O http://owl.fish.washington.edu/nightingales/O_lurida/lane1_NoIndex_L001_R1_012.fastq.gz > ./land1rad"
   ]
  },
  {
   "cell_type": "code",
   "execution_count": 4,
   "metadata": {
    "collapsed": false
   },
   "outputs": [
    {
     "name": "stdout",
     "output_type": "stream",
     "text": [
      "  % Total    % Received % Xferd  Average Speed   Time    Time     Time  Current\n",
      "                                 Dload  Upload   Total   Spent    Left  Speed\n",
      "100 1509M  100 1509M    0     0  78.2M      0  0:00:19  0:00:19 --:--:-- 58.5M\n"
     ]
    }
   ],
   "source": [
    "!curl -O http://owl.fish.washington.edu/nightingales/O_lurida/lane1_NoIndex_L001_R1_013.fastq.gz > ./land1rad"
   ]
  },
  {
   "cell_type": "code",
   "execution_count": 4,
   "metadata": {
    "collapsed": false
   },
   "outputs": [
    {
     "name": "stdout",
     "output_type": "stream",
     "text": [
      "  % Total    % Received % Xferd  Average Speed   Time    Time     Time  Current\n",
      "                                 Dload  Upload   Total   Spent    Left  Speed\n",
      "100 1509M  100 1509M    0     0  78.2M      0  0:00:19  0:00:19 --:--:-- 58.5M\n"
     ]
    }
   ],
   "source": [
    "!curl -O http://owl.fish.washington.edu/nightingales/O_lurida/lane1_NoIndex_L001_R1_014.fastq.gz > ./land1rad"
   ]
  },
  {
   "cell_type": "code",
   "execution_count": 13,
   "metadata": {
    "collapsed": false
   },
   "outputs": [],
   "source": [
    "ls"
   ]
  },
  {
   "cell_type": "code",
   "execution_count": 16,
   "metadata": {
    "collapsed": false
   },
   "outputs": [
    {
     "name": "stdout",
     "output_type": "stream",
     "text": [
      "/Users/srlab/Fish546-Jake/Course Project/Workflow\n"
     ]
    }
   ],
   "source": [
    "cd ../"
   ]
  },
  {
   "cell_type": "code",
   "execution_count": 23,
   "metadata": {
    "collapsed": false
   },
   "outputs": [
    {
     "name": "stdout",
     "output_type": "stream",
     "text": [
      "Process Radtags.ipynb  Stacks Process.ipynb   \u001b[34msamples\u001b[m\u001b[m/\r\n",
      "README.md              \u001b[34mlane1rad\u001b[m\u001b[m/\r\n"
     ]
    }
   ],
   "source": [
    "ls"
   ]
  },
  {
   "cell_type": "markdown",
   "metadata": {},
   "source": [
    "I have gunzipped the files for my purposes but STACKS is capable of handling gzipped files for sequence data. If you'd like to gunzip the files, use the following commands. "
   ]
  },
  {
   "cell_type": "code",
   "execution_count": 28,
   "metadata": {
    "collapsed": false
   },
   "outputs": [],
   "source": [
    "!gunzip -c ./lane1rad/lane1_NoIndex_L001_R1_001.fastq.gz "
   ]
  },
  {
   "cell_type": "code",
   "execution_count": 29,
   "metadata": {
    "collapsed": false
   },
   "outputs": [],
   "source": [
    "!gunzip -c ./lane1rad/lane1_NoIndex_L001_R1_002.fastq.gz "
   ]
  },
  {
   "cell_type": "code",
   "execution_count": 30,
   "metadata": {
    "collapsed": false
   },
   "outputs": [],
   "source": [
    "!gunzip -c ./lane1rad/lane1_NoIndex_L001_R1_003.fastq.gz "
   ]
  },
  {
   "cell_type": "code",
   "execution_count": 31,
   "metadata": {
    "collapsed": false
   },
   "outputs": [],
   "source": [
    "!gunzip -c ./lane1rad/lane1_NoIndex_L001_R1_004.fastq.gz "
   ]
  },
  {
   "cell_type": "code",
   "execution_count": 32,
   "metadata": {
    "collapsed": false
   },
   "outputs": [],
   "source": [
    "!gunzip -c ./lane1rad/lane1_NoIndex_L001_R1_005.fastq.gz"
   ]
  },
  {
   "cell_type": "code",
   "execution_count": 33,
   "metadata": {
    "collapsed": false
   },
   "outputs": [],
   "source": [
    "!gunzip -c ./lane1rad/lane1_NoIndex_L001_R1_006.fastq.gz "
   ]
  },
  {
   "cell_type": "code",
   "execution_count": 34,
   "metadata": {
    "collapsed": false
   },
   "outputs": [],
   "source": [
    "!gunzip -c ./lane1rad/lane1_NoIndex_L001_R1_007.fastq.gz "
   ]
  },
  {
   "cell_type": "code",
   "execution_count": 35,
   "metadata": {
    "collapsed": false
   },
   "outputs": [],
   "source": [
    "!gunzip -c ./lane1rad/lane1_NoIndex_L001_R1_008.fastq.gz "
   ]
  },
  {
   "cell_type": "code",
   "execution_count": 36,
   "metadata": {
    "collapsed": false
   },
   "outputs": [],
   "source": [
    "!gunzip -c ./lane1rad/lane1_NoIndex_L001_R1_009.fastq.gz"
   ]
  },
  {
   "cell_type": "code",
   "execution_count": 4,
   "metadata": {
    "collapsed": false
   },
   "outputs": [],
   "source": [
    "!gunzip -c ./lane1rad/lane1_NoIndex_L001_R1_010.fastq.gz "
   ]
  },
  {
   "cell_type": "code",
   "execution_count": 5,
   "metadata": {
    "collapsed": false
   },
   "outputs": [],
   "source": [
    "!gunzip -c ./lane1rad/lane1_NoIndex_L001_R1_011.fastq.gz "
   ]
  },
  {
   "cell_type": "code",
   "execution_count": 6,
   "metadata": {
    "collapsed": false
   },
   "outputs": [],
   "source": [
    "!gunzip -c ./lane1rad/lane1_NoIndex_L001_R1_012.fastq.gz "
   ]
  },
  {
   "cell_type": "code",
   "execution_count": 7,
   "metadata": {
    "collapsed": false
   },
   "outputs": [],
   "source": [
    "!gunzip -c ./lane1rad/lane1_NoIndex_L001_R1_013.fastq.gz "
   ]
  },
  {
   "cell_type": "code",
   "execution_count": 8,
   "metadata": {
    "collapsed": false
   },
   "outputs": [],
   "source": [
    "!gunzip -c ./lane1rad/lane1_NoIndex_L001_R1_014.fastq.gz "
   ]
  },
  {
   "cell_type": "markdown",
   "metadata": {},
   "source": [
    "Check the directory to confirm they have been unzipped."
   ]
  },
  {
   "cell_type": "code",
   "execution_count": 9,
   "metadata": {
    "collapsed": false
   },
   "outputs": [
    {
     "name": "stdout",
     "output_type": "stream",
     "text": [
      "/Users/srlab/lane1rad\n"
     ]
    }
   ],
   "source": [
    "cd ./lane1rad"
   ]
  },
  {
   "cell_type": "code",
   "execution_count": null,
   "metadata": {
    "collapsed": true
   },
   "outputs": [],
   "source": [
    "cd ../"
   ]
  },
  {
   "cell_type": "markdown",
   "metadata": {},
   "source": [
    "## Process RADtags Function"
   ]
  },
  {
   "cell_type": "code",
   "execution_count": 2,
   "metadata": {
    "collapsed": true
   },
   "outputs": [],
   "source": [
    "mkdir ./samples"
   ]
  },
  {
   "cell_type": "markdown",
   "metadata": {},
   "source": [
    "Output from the process radtags should go in the samples file that was just created. "
   ]
  },
  {
   "cell_type": "markdown",
   "metadata": {},
   "source": [
    "Below is the command to process the radtags for the RAW files. I have included a guide to describe what each flag does in this line of code. \n",
    "\n",
    "!process_radtags starts the program. -p ../lane1rad tells which directory to read. -o ./samples/ tells where the output file should go. -b ./data/decradbarcodes1.csv tells the program which file contains the barcodes used and where its at. -e sbfI tells the program what restriction enzyme I used to chop up the DNA. -r rescues barcodes and RAD-tags, - c cleans the data removing any uncalled bases, -q discards reads with low quality scores, and -i tells the program what file type the data is in. "
   ]
  },
  {
   "cell_type": "code",
   "execution_count": 6,
   "metadata": {
    "collapsed": false
   },
   "outputs": [
    {
     "name": "stdout",
     "output_type": "stream",
     "text": [
      "Using Phred+33 encoding for quality scores.\n",
      "Found 9 input file(s).\n",
      "Searching for single-end, inlined barcodes.\n",
      "Loaded 96 barcodes (6bp).\n",
      "Processing file 1 of 9 [lane1_NoIndex_L001_R1_001.fastq]\n",
      "^C\n"
     ]
    }
   ],
   "source": [
    "!process_radtags -p ./lane1rad -o ./samples/ -b ./data/decradbarcodes1.csv -e sbfI -r -c -q -i fastq"
   ]
  },
  {
   "cell_type": "markdown",
   "metadata": {},
   "source": [
    "## Findings"
   ]
  },
  {
   "cell_type": "markdown",
   "metadata": {},
   "source": [
    "As you can see there were 222.1 million sequence reads but only about 15.3 million of them were high enough quality with unambiguous barcodes and RAD-tags. So only 6.89% of the total number of reads were any good from this run.  "
   ]
  },
  {
   "cell_type": "code",
   "execution_count": 16,
   "metadata": {
    "collapsed": false
   },
   "outputs": [
    {
     "name": "stdout",
     "output_type": "stream",
     "text": [
      "process_radtags -p ../lane1rad -o ../samples/ -b ./data/decradbarcodes5.txt -e sbfI -r -c -q -i fastq\r\n",
      "process_radtags executed 2015-02-03 17:10:41\r\n",
      "\r\n",
      "File\tRetained Reads\tLow Quality\tAmbiguous Barcodes\tAmbiguous RAD-Tag\tTotal\r\n",
      "lane1_NoIndex_L001_R1_001.fastq\t1058753\t293307\t7909635\t6738305\t16000000\r\n",
      "lane1_NoIndex_L001_R1_002.fastq\t1087791\t269179\t7891081\t6751949\t16000000\r\n",
      "lane1_NoIndex_L001_R1_003.fastq\t1065960\t285280\t7912577\t6736183\t16000000\r\n",
      "lane1_NoIndex_L001_R1_004.fastq\t1088605\t263354\t7905417\t6742624\t16000000\r\n",
      "lane1_NoIndex_L001_R1_005.fastq\t1096018\t260183\t7900613\t6743186\t16000000\r\n",
      "lane1_NoIndex_L001_R1_006.fastq\t1103156\t250731\t7911241\t6734872\t16000000\r\n"
     ]
    }
   ],
   "source": [
    "!head -10 ./samples/process_radtags.log"
   ]
  },
  {
   "cell_type": "code",
   "execution_count": 17,
   "metadata": {
    "collapsed": false
   },
   "outputs": [
    {
     "name": "stdout",
     "output_type": "stream",
     "text": [
      "/Users/srlab/samples\n"
     ]
    }
   ],
   "source": [
    "cd ./samples"
   ]
  },
  {
   "cell_type": "code",
   "execution_count": 18,
   "metadata": {
    "collapsed": false
   },
   "outputs": [
    {
     "name": "stdout",
     "output_type": "stream",
     "text": [
      "process_radtags.log  sample_CCCTAA.fq     sample_GGTTTG.fq\r\n",
      "sample_AAACGG.fq     sample_CCGAGG.fq     sample_GTAAGT.fq\r\n",
      "sample_AACGTT.fq     sample_CCGCAT.fq     sample_GTATCC.fq\r\n",
      "sample_AACTGA.fq     sample_CCTAAC.fq     sample_GTCATC.fq\r\n",
      "sample_AAGACG.fq     sample_CGAGGC.fq     sample_GTGCCT.fq\r\n",
      "sample_AAGCTA.fq     sample_CGCAGA.fq     sample_GTGTAA.fq\r\n",
      "sample_AATATC.fq     sample_CGCGTG.fq     sample_GTTGGA.fq\r\n",
      "sample_AATGAG.fq     sample_CGGTCC.fq     sample_TAAGCT.fq\r\n",
      "sample_ACAAGA.fq     sample_CGTCTA.fq     sample_TAATTC.fq\r\n",
      "sample_ACAGCG.fq     sample_CGTGAT.fq     sample_TACACA.fq\r\n",
      "sample_ACATAC.fq     sample_CTACAG.fq     sample_TACGGG.fq\r\n",
      "sample_ACCATG.fq     sample_CTCGCC.fq     sample_TAGTAT.fq\r\n",
      "sample_ACCCCC.fq     sample_CTGCGA.fq     sample_TATCAC.fq\r\n",
      "sample_ACTCTT.fq     sample_CTGGTT.fq     sample_TCAAAG.fq\r\n",
      "sample_ACTGGC.fq     sample_CTTATG.fq     sample_TCCTGC.fq\r\n",
      "sample_AGCCAT.fq     sample_CTTTGC.fq     sample_TCGATT.fq\r\n",
      "sample_AGCGCA.fq     sample_GAAATG.fq     sample_TCGCCA.fq\r\n",
      "sample_AGGGTC.fq     sample_GAACCA.fq     sample_TCGGAC.fq\r\n",
      "sample_AGGTGT.fq     sample_GACGAC.fq     sample_TCTCGG.fq\r\n",
      "sample_AGTAGG.fq     sample_GACTCT.fq     sample_TCTTCT.fq\r\n",
      "sample_AGTTAA.fq     sample_GAGAGA.fq     sample_TGAACC.fq\r\n",
      "sample_ATAGTA.fq     sample_GATCGT.fq     sample_TGACAA.fq\r\n",
      "sample_ATCAAA.fq     sample_GCAGAT.fq     sample_TGCCCG.fq\r\n",
      "sample_ATGCAC.fq     sample_GCATGG.fq     sample_TGCTTA.fq\r\n",
      "sample_ATGTTG.fq     sample_GCCGTA.fq     sample_TGGGGA.fq\r\n",
      "sample_ATTCCG.fq     sample_GCGACC.fq     sample_TTATGA.fq\r\n",
      "sample_CAAAAA.fq     sample_GCGCTG.fq     sample_TTCCGT.fq\r\n",
      "sample_CAATCG.fq     sample_GCTCAA.fq     sample_TTCTAG.fq\r\n",
      "sample_CACCTC.fq     sample_GGACTT.fq     sample_TTGAGC.fq\r\n",
      "sample_CAGGCA.fq     sample_GGCAAG.fq     sample_TTTAAT.fq\r\n",
      "sample_CATACT.fq     sample_GGGCGC.fq     sample_TTTGTC.fq\r\n",
      "sample_CCATTT.fq     sample_GGGGCG.fq\r\n",
      "sample_CCCGGT.fq     sample_GGTACA.fq\r\n"
     ]
    }
   ],
   "source": [
    "ls"
   ]
  }
 ],
 "metadata": {
  "kernelspec": {
   "display_name": "Python 2",
   "language": "python",
   "name": "python2"
  },
  "language_info": {
   "codemirror_mode": {
    "name": "ipython",
    "version": 2
   },
   "file_extension": ".py",
   "mimetype": "text/x-python",
   "name": "python",
   "nbconvert_exporter": "python",
   "pygments_lexer": "ipython2",
   "version": "2.7.9"
  }
 },
 "nbformat": 4,
 "nbformat_minor": 0
}

{
 "cells": [
  {
   "cell_type": "markdown",
   "metadata": {},
   "source": [
    "# Stacks Processing"
   ]
  },
  {
   "cell_type": "markdown",
   "metadata": {},
   "source": [
    "To run the STACKS process, first orient yourself to your current directory."
   ]
  },
  {
   "cell_type": "code",
   "execution_count": 1,
   "metadata": {
    "collapsed": false
   },
   "outputs": [
    {
     "data": {
      "text/plain": [
       "u'/Users/srlab/Fish546-Jake/nb'"
      ]
     },
     "execution_count": 1,
     "metadata": {},
     "output_type": "execute_result"
    }
   ],
   "source": [
    "pwd"
   ]
  },
  {
   "cell_type": "markdown",
   "metadata": {},
   "source": [
    "Next make a directory for all the data to funneled into from each step called ustacks"
   ]
  },
  {
   "cell_type": "code",
   "execution_count": 7,
   "metadata": {
    "collapsed": false
   },
   "outputs": [],
   "source": [
    "mkdir ./ustacks"
   ]
  },
  {
   "cell_type": "markdown",
   "metadata": {},
   "source": [
    "Here I need to move the process_radtags.log file so that its doesn't interfere with anything."
   ]
  },
  {
   "cell_type": "code",
   "execution_count": 10,
   "metadata": {
    "collapsed": false
   },
   "outputs": [],
   "source": [
    "mv ./samples/process_radtags.log ./data/"
   ]
  },
  {
   "cell_type": "markdown",
   "metadata": {},
   "source": [
    "## USTACKS"
   ]
  },
  {
   "cell_type": "markdown",
   "metadata": {},
   "source": [
    "ustacks will call all of the snps and other information found in the reads from each fastq file. Giving generic information about each sample."
   ]
  },
  {
   "cell_type": "markdown",
   "metadata": {},
   "source": [
    "Run the single ustacks command for each file and replace the input file name as appropriate."
   ]
  },
  {
   "cell_type": "code",
   "execution_count": 14,
   "metadata": {
    "collapsed": false
   },
   "outputs": [
    {
     "name": "stdout",
     "output_type": "stream",
     "text": [
      "Min depth of coverage to create a stack: 3\n",
      "Max distance allowed between stacks: 2\n",
      "Max distance allowed to align secondary reads: 4\n",
      "Max number of stacks allowed per de novo locus: 3\n",
      "Deleveraging algorithm: enabled\n",
      "Removal algorithm: enabled\n",
      "Model type: SNP\n",
      "Alpha significance level for model: 0.05\n",
      "Parsing ../samples/sample_CACCTC.fq\n",
      "Loaded 93066 RAD-Tags; inserted 24936 elements into the RAD-Tags hash map.\n",
      "  0 reads contained uncalled nucleotides that were modified.\n",
      "  Mean coverage depth is 9; Std Dev: 16.0454 Max: 901\n",
      "Coverage mean: 9; stdev: 16.0454\n",
      "Deleveraging trigger: 25; Removal trigger: 41\n",
      "Calculating distance for removing repetitive stacks.\n",
      "  Distance allowed between stacks: 1\n",
      "  Using a k-mer length of 47\n",
      "  Number of kmers per sequence: 49\n",
      "  Miniumum number of k-mers to define a match: 2\n",
      "Removing repetitive stacks.\n",
      "  Removed 244 stacks.\n",
      "  8421 stacks remain for merging.\n",
      "Calculating distance between stacks...\n",
      "  Distance allowed between stacks: 2\n",
      "  Using a k-mer length of 31\n",
      "  Number of kmers per sequence: 65\n",
      "  Miniumum number of k-mers to define a match: 3\n",
      "Merging stacks, maximum allowed distance: 2 nucleotide(s)\n",
      "  8421 stacks merged into 7586 stacks; deleveraged 55 stacks; removed 35 stacks.\n",
      "  Mean merged coverage depth is 9.77419; Std Dev: 21.343; Max: 920\n",
      "Merging remainder radtags\n",
      "  18919 remainder sequences left to merge.\n",
      "  Distance allowed between stacks: 4\n",
      "  Using a k-mer length of 19\n",
      "  Number of kmers per sequence: 77\n",
      "  Miniumum number of k-mers to define a match: 1\n",
      "  Matched 5602 remainder reads; unable to match 13317 remainder reads.\n",
      "Number of utilized reads: 79749\n",
      "Writing results\n",
      "  Refetching sequencing IDs from ../samples/sample_CACCTC.fq... read 93066 sequence IDs.\n"
     ]
    }
   ],
   "source": [
    "!ustacks -t fastq -f ../samples/sample_CACCTC.fq -o ../ustacks -i 1 -d -r -m 3 -p 15"
   ]
  },
  {
   "cell_type": "code",
   "execution_count": 15,
   "metadata": {
    "collapsed": false
   },
   "outputs": [
    {
     "name": "stdout",
     "output_type": "stream",
     "text": [
      "Min depth of coverage to create a stack: 3\n",
      "Max distance allowed between stacks: 2\n",
      "Max distance allowed to align secondary reads: 4\n",
      "Max number of stacks allowed per de novo locus: 3\n",
      "Deleveraging algorithm: enabled\n",
      "Removal algorithm: enabled\n",
      "Model type: SNP\n",
      "Alpha significance level for model: 0.05\n",
      "Parsing ../samples/sample_CCCTAA.fq\n",
      "Loaded 184308 RAD-Tags; inserted 39431 elements into the RAD-Tags hash map.\n",
      "  0 reads contained uncalled nucleotides that were modified.\n",
      "  Mean coverage depth is 13; Std Dev: 41.9606 Max: 3766\n",
      "Coverage mean: 13; stdev: 41.9606\n",
      "Deleveraging trigger: 55; Removal trigger: 97\n",
      "Calculating distance for removing repetitive stacks.\n",
      "  Distance allowed between stacks: 1\n",
      "  Using a k-mer length of 47\n",
      "  Number of kmers per sequence: 49\n",
      "  Miniumum number of k-mers to define a match: 2\n",
      "Removing repetitive stacks.\n",
      "  Removed 367 stacks.\n",
      "  11166 stacks remain for merging.\n",
      "Calculating distance between stacks...\n",
      "  Distance allowed between stacks: 2\n",
      "  Using a k-mer length of 31\n",
      "  Number of kmers per sequence: 65\n",
      "  Miniumum number of k-mers to define a match: 3\n",
      "Merging stacks, maximum allowed distance: 2 nucleotide(s)\n",
      "  11166 stacks merged into 9815 stacks; deleveraged 85 stacks; removed 59 stacks.\n",
      "  Mean merged coverage depth is 15.5762; Std Dev: 54.4303; Max: 3953\n",
      "Merging remainder radtags\n",
      "  31428 remainder sequences left to merge.\n",
      "  Distance allowed between stacks: 4\n",
      "  Using a k-mer length of 19\n",
      "  Number of kmers per sequence: 77\n",
      "  Miniumum number of k-mers to define a match: 1\n",
      "  Matched 9941 remainder reads; unable to match 21487 remainder reads.\n",
      "Number of utilized reads: 162821\n",
      "Writing results\n",
      "  Refetching sequencing IDs from ../samples/sample_CCCTAA.fq... read 184308 sequence IDs.\n"
     ]
    }
   ],
   "source": [
    "!ustacks -t fastq -f ../samples/sample_CCCTAA.fq -o ../ustacks -i 2 -d -r -m 3 -p 15"
   ]
  },
  {
   "cell_type": "code",
   "execution_count": 16,
   "metadata": {
    "collapsed": false
   },
   "outputs": [
    {
     "name": "stdout",
     "output_type": "stream",
     "text": [
      "Min depth of coverage to create a stack: 3\n",
      "Max distance allowed between stacks: 2\n",
      "Max distance allowed to align secondary reads: 4\n",
      "Max number of stacks allowed per de novo locus: 3\n",
      "Deleveraging algorithm: enabled\n",
      "Removal algorithm: enabled\n",
      "Model type: SNP\n",
      "Alpha significance level for model: 0.05\n",
      "Parsing ../samples/sample_GCTCAA.fq\n",
      "Loaded 444475 RAD-Tags; inserted 60053 elements into the RAD-Tags hash map.\n",
      "  0 reads contained uncalled nucleotides that were modified.\n",
      "  Mean coverage depth is 30; Std Dev: 81.9673 Max: 4679\n",
      "Coverage mean: 30; stdev: 81.9673\n",
      "Deleveraging trigger: 112; Removal trigger: 194\n",
      "Calculating distance for removing repetitive stacks.\n",
      "  Distance allowed between stacks: 1\n",
      "  Using a k-mer length of 47\n",
      "  Number of kmers per sequence: 49\n",
      "  Miniumum number of k-mers to define a match: 2\n",
      "Removing repetitive stacks.\n",
      "  Removed 485 stacks.\n",
      "  12847 stacks remain for merging.\n",
      "Calculating distance between stacks...\n",
      "  Distance allowed between stacks: 2\n",
      "  Using a k-mer length of 31\n",
      "  Number of kmers per sequence: 65\n",
      "  Miniumum number of k-mers to define a match: 3\n",
      "Merging stacks, maximum allowed distance: 2 nucleotide(s)\n",
      "  12847 stacks merged into 11114 stacks; deleveraged 97 stacks; removed 77 stacks.\n",
      "  Mean merged coverage depth is 35.3757; Std Dev: 110.388; Max: 5418\n",
      "Merging remainder radtags\n",
      "  51309 remainder sequences left to merge.\n",
      "  Distance allowed between stacks: 4\n",
      "  Using a k-mer length of 19\n",
      "  Number of kmers per sequence: 77\n",
      "  Miniumum number of k-mers to define a match: 1\n",
      "  Matched 22417 remainder reads; unable to match 28892 remainder reads.\n",
      "Number of utilized reads: 415583\n",
      "Writing results\n",
      "  Refetching sequencing IDs from ../samples/sample_GCTCAA.fq... read 444475 sequence IDs.\n"
     ]
    }
   ],
   "source": [
    "!ustacks -t fastq -f ../samples/sample_GCTCAA.fq -o ../ustacks -i 3 -d -r -m 3 -p 15"
   ]
  },
  {
   "cell_type": "code",
   "execution_count": 17,
   "metadata": {
    "collapsed": false
   },
   "outputs": [
    {
     "name": "stdout",
     "output_type": "stream",
     "text": [
      "Min depth of coverage to create a stack: 3\n",
      "Max distance allowed between stacks: 2\n",
      "Max distance allowed to align secondary reads: 4\n",
      "Max number of stacks allowed per de novo locus: 3\n",
      "Deleveraging algorithm: enabled\n",
      "Removal algorithm: enabled\n",
      "Model type: SNP\n",
      "Alpha significance level for model: 0.05\n",
      "Parsing ../samples/sample_GTGTAA.fq\n",
      "Loaded 477928 RAD-Tags; inserted 62751 elements into the RAD-Tags hash map.\n",
      "  0 reads contained uncalled nucleotides that were modified.\n",
      "  Mean coverage depth is 31; Std Dev: 100.854 Max: 6045\n",
      "Coverage mean: 31; stdev: 100.854\n",
      "Deleveraging trigger: 132; Removal trigger: 233\n",
      "Calculating distance for removing repetitive stacks.\n",
      "  Distance allowed between stacks: 1\n",
      "  Using a k-mer length of 47\n",
      "  Number of kmers per sequence: 49\n",
      "  Miniumum number of k-mers to define a match: 2\n",
      "Removing repetitive stacks.\n",
      "  Removed 472 stacks.\n",
      "  13236 stacks remain for merging.\n",
      "Calculating distance between stacks...\n",
      "  Distance allowed between stacks: 2\n",
      "  Using a k-mer length of 31\n",
      "  Number of kmers per sequence: 65\n",
      "  Miniumum number of k-mers to define a match: 3\n",
      "Merging stacks, maximum allowed distance: 2 nucleotide(s)\n",
      "  13236 stacks merged into 11332 stacks; deleveraged 117 stacks; removed 87 stacks.\n",
      "  Mean merged coverage depth is 37.4178; Std Dev: 132.4; Max: 6388\n",
      "Merging remainder radtags\n",
      "  53909 remainder sequences left to merge.\n",
      "  Distance allowed between stacks: 4\n",
      "  Using a k-mer length of 19\n",
      "  Number of kmers per sequence: 77\n",
      "  Miniumum number of k-mers to define a match: 1\n",
      "  Matched 23659 remainder reads; unable to match 30250 remainder reads.\n",
      "Number of utilized reads: 447678\n",
      "Writing results\n",
      "  Refetching sequencing IDs from ../samples/sample_GTGTAA.fq... read 477928 sequence IDs.\n"
     ]
    }
   ],
   "source": [
    "!ustacks -t fastq -f ../samples/sample_GTGTAA.fq -o ../ustacks -i 4 -d -r -m 3 -p 15"
   ]
  },
  {
   "cell_type": "code",
   "execution_count": 18,
   "metadata": {
    "collapsed": false
   },
   "outputs": [
    {
     "name": "stdout",
     "output_type": "stream",
     "text": [
      "Min depth of coverage to create a stack: 3\n",
      "Max distance allowed between stacks: 2\n",
      "Max distance allowed to align secondary reads: 4\n",
      "Max number of stacks allowed per de novo locus: 3\n",
      "Deleveraging algorithm: enabled\n",
      "Removal algorithm: enabled\n",
      "Model type: SNP\n",
      "Alpha significance level for model: 0.05\n",
      "Parsing ../samples/sample_ACATAC.fq\n",
      "Loaded 669167 RAD-Tags; inserted 94601 elements into the RAD-Tags hash map.\n",
      "  0 reads contained uncalled nucleotides that were modified.\n",
      "  Mean coverage depth is 40; Std Dev: 84.3736 Max: 5739\n",
      "Coverage mean: 40; stdev: 84.3736\n",
      "Deleveraging trigger: 124; Removal trigger: 209\n",
      "Calculating distance for removing repetitive stacks.\n",
      "  Distance allowed between stacks: 1\n",
      "  Using a k-mer length of 47\n",
      "  Number of kmers per sequence: 49\n",
      "  Miniumum number of k-mers to define a match: 2\n",
      "Removing repetitive stacks.\n",
      "  Removed 383 stacks.\n",
      "  14093 stacks remain for merging.\n",
      "Calculating distance between stacks...\n",
      "  Distance allowed between stacks: 2\n",
      "  Using a k-mer length of 31\n",
      "  Number of kmers per sequence: 65\n",
      "  Miniumum number of k-mers to define a match: 3\n",
      "Merging stacks, maximum allowed distance: 2 nucleotide(s)\n",
      "  14093 stacks merged into 12052 stacks; deleveraged 105 stacks; removed 94 stacks.\n",
      "  Mean merged coverage depth is 48.1594; Std Dev: 113.335; Max: 6320\n",
      "Merging remainder radtags\n",
      "  88750 remainder sequences left to merge.\n",
      "  Distance allowed between stacks: 4\n",
      "  Using a k-mer length of 19\n",
      "  Number of kmers per sequence: 77\n",
      "  Miniumum number of k-mers to define a match: 1\n",
      "  Matched 34879 remainder reads; unable to match 53871 remainder reads.\n",
      "Number of utilized reads: 615296\n",
      "Writing results\n",
      "  Refetching sequencing IDs from ../samples/sample_ACATAC.fq... read 669167 sequence IDs.\n"
     ]
    }
   ],
   "source": [
    "!ustacks -t fastq -f ../samples/sample_ACATAC.fq -o ../ustacks -i 5 -d -r -m 3 -p 15"
   ]
  },
  {
   "cell_type": "code",
   "execution_count": 19,
   "metadata": {
    "collapsed": false
   },
   "outputs": [
    {
     "name": "stdout",
     "output_type": "stream",
     "text": [
      "Min depth of coverage to create a stack: 3\n",
      "Max distance allowed between stacks: 2\n",
      "Max distance allowed to align secondary reads: 4\n",
      "Max number of stacks allowed per de novo locus: 3\n",
      "Deleveraging algorithm: enabled\n",
      "Removal algorithm: enabled\n",
      "Model type: SNP\n",
      "Alpha significance level for model: 0.05\n",
      "Parsing ../samples/sample_ACCATG.fq\n",
      "Loaded 413345 RAD-Tags; inserted 74223 elements into the RAD-Tags hash map.\n",
      "  0 reads contained uncalled nucleotides that were modified.\n",
      "  Mean coverage depth is 26; Std Dev: 98.5712 Max: 8051\n",
      "Coverage mean: 26; stdev: 98.5712\n",
      "Deleveraging trigger: 125; Removal trigger: 223\n",
      "Calculating distance for removing repetitive stacks.\n",
      "  Distance allowed between stacks: 1\n",
      "  Using a k-mer length of 47\n",
      "  Number of kmers per sequence: 49\n",
      "  Miniumum number of k-mers to define a match: 2\n",
      "Removing repetitive stacks.\n",
      "  Removed 520 stacks.\n",
      "  13038 stacks remain for merging.\n",
      "Calculating distance between stacks...\n",
      "  Distance allowed between stacks: 2\n",
      "  Using a k-mer length of 31\n",
      "  Number of kmers per sequence: 65\n",
      "  Miniumum number of k-mers to define a match: 3\n",
      "Merging stacks, maximum allowed distance: 2 nucleotide(s)\n",
      "  13038 stacks merged into 11248 stacks; deleveraged 112 stacks; removed 82 stacks.\n",
      "  Mean merged coverage depth is 30.7252; Std Dev: 128.328; Max: 8527\n",
      "Merging remainder radtags\n",
      "  67748 remainder sequences left to merge.\n",
      "  Distance allowed between stacks: 4\n",
      "  Using a k-mer length of 19\n",
      "  Number of kmers per sequence: 77\n",
      "  Miniumum number of k-mers to define a match: 1\n",
      "  Matched 21644 remainder reads; unable to match 46104 remainder reads.\n",
      "Number of utilized reads: 367241\n",
      "Writing results\n",
      "  Refetching sequencing IDs from ../samples/sample_ACCATG.fq... read 413345 sequence IDs.\n"
     ]
    }
   ],
   "source": [
    "!ustacks -t fastq -f ../samples/sample_ACCATG.fq -o ../ustacks -i 6 -d -r -m 3 -p 15"
   ]
  },
  {
   "cell_type": "code",
   "execution_count": 20,
   "metadata": {
    "collapsed": false
   },
   "outputs": [
    {
     "name": "stdout",
     "output_type": "stream",
     "text": [
      "Min depth of coverage to create a stack: 3\n",
      "Max distance allowed between stacks: 2\n",
      "Max distance allowed to align secondary reads: 4\n",
      "Max number of stacks allowed per de novo locus: 3\n",
      "Deleveraging algorithm: enabled\n",
      "Removal algorithm: enabled\n",
      "Model type: SNP\n",
      "Alpha significance level for model: 0.05\n",
      "Parsing ../samples/sample_ACCCCC.fq\n",
      "Loaded 441733 RAD-Tags; inserted 57835 elements into the RAD-Tags hash map.\n",
      "  0 reads contained uncalled nucleotides that were modified.\n",
      "  Mean coverage depth is 30; Std Dev: 98.8621 Max: 5575\n",
      "Coverage mean: 30; stdev: 98.8621\n",
      "Deleveraging trigger: 129; Removal trigger: 228\n",
      "Calculating distance for removing repetitive stacks.\n",
      "  Distance allowed between stacks: 1\n",
      "  Using a k-mer length of 47\n",
      "  Number of kmers per sequence: 49\n",
      "  Miniumum number of k-mers to define a match: 2\n",
      "Removing repetitive stacks.\n",
      "  Removed 439 stacks.\n",
      "  12856 stacks remain for merging.\n",
      "Calculating distance between stacks...\n",
      "  Distance allowed between stacks: 2\n",
      "  Using a k-mer length of 31\n",
      "  Number of kmers per sequence: 65\n",
      "  Miniumum number of k-mers to define a match: 3\n",
      "Merging stacks, maximum allowed distance: 2 nucleotide(s)\n",
      "  12856 stacks merged into 10999 stacks; deleveraged 105 stacks; removed 82 stacks.\n",
      "  Mean merged coverage depth is 35.7519; Std Dev: 154.377; Max: 12246\n",
      "Merging remainder radtags\n",
      "  48498 remainder sequences left to merge.\n",
      "  Distance allowed between stacks: 4\n",
      "  Using a k-mer length of 19\n",
      "  Number of kmers per sequence: 77\n",
      "  Miniumum number of k-mers to define a match: 1\n",
      "  Matched 23157 remainder reads; unable to match 25341 remainder reads.\n",
      "Number of utilized reads: 416392\n",
      "Writing results\n",
      "  Refetching sequencing IDs from ../samples/sample_ACCCCC.fq... read 441733 sequence IDs.\n"
     ]
    }
   ],
   "source": [
    "!ustacks -t fastq -f ../samples/sample_ACCCCC.fq -o ../ustacks -i 7 -d -r -m 3 -p 15"
   ]
  },
  {
   "cell_type": "code",
   "execution_count": 21,
   "metadata": {
    "collapsed": false
   },
   "outputs": [
    {
     "name": "stdout",
     "output_type": "stream",
     "text": [
      "Min depth of coverage to create a stack: 3\n",
      "Max distance allowed between stacks: 2\n",
      "Max distance allowed to align secondary reads: 4\n",
      "Max number of stacks allowed per de novo locus: 3\n",
      "Deleveraging algorithm: enabled\n",
      "Removal algorithm: enabled\n",
      "Model type: SNP\n",
      "Alpha significance level for model: 0.05\n",
      "Parsing ../samples/sample_CAAAAA.fq\n",
      "Loaded 59363 RAD-Tags; inserted 23593 elements into the RAD-Tags hash map.\n",
      "  0 reads contained uncalled nucleotides that were modified.\n",
      "  Mean coverage depth is 7; Std Dev: 27.7148 Max: 1835\n",
      "Coverage mean: 7; stdev: 27.7148\n",
      "Deleveraging trigger: 35; Removal trigger: 62\n",
      "Calculating distance for removing repetitive stacks.\n",
      "  Distance allowed between stacks: 1\n",
      "  Using a k-mer length of 47\n",
      "  Number of kmers per sequence: 49\n",
      "  Miniumum number of k-mers to define a match: 2\n",
      "Removing repetitive stacks.\n",
      "  Removed 126 stacks.\n",
      "  5615 stacks remain for merging.\n",
      "Calculating distance between stacks...\n",
      "  Distance allowed between stacks: 2\n",
      "  Using a k-mer length of 31\n",
      "  Number of kmers per sequence: 65\n",
      "  Miniumum number of k-mers to define a match: 3\n",
      "Merging stacks, maximum allowed distance: 2 nucleotide(s)\n",
      "  5615 stacks merged into 5175 stacks; deleveraged 42 stacks; removed 22 stacks.\n",
      "  Mean merged coverage depth is 7.34319; Std Dev: 31.5243; Max: 1899\n",
      "Merging remainder radtags\n",
      "  21362 remainder sequences left to merge.\n",
      "  Distance allowed between stacks: 4\n",
      "  Using a k-mer length of 19\n",
      "  Number of kmers per sequence: 77\n",
      "  Miniumum number of k-mers to define a match: 1\n",
      "  Matched 3574 remainder reads; unable to match 17788 remainder reads.\n",
      "Number of utilized reads: 41575\n",
      "Writing results\n",
      "  Refetching sequencing IDs from ../samples/sample_CAAAAA.fq... read 59363 sequence IDs.\n"
     ]
    }
   ],
   "source": [
    "!ustacks -t fastq -f ../samples/sample_CAAAAA.fq -o ../ustacks -i 8 -d -r -m 3 -p 15"
   ]
  },
  {
   "cell_type": "code",
   "execution_count": 22,
   "metadata": {
    "collapsed": false
   },
   "outputs": [
    {
     "name": "stdout",
     "output_type": "stream",
     "text": [
      "Min depth of coverage to create a stack: 3\n",
      "Max distance allowed between stacks: 2\n",
      "Max distance allowed to align secondary reads: 4\n",
      "Max number of stacks allowed per de novo locus: 3\n",
      "Deleveraging algorithm: enabled\n",
      "Removal algorithm: enabled\n",
      "Model type: SNP\n",
      "Alpha significance level for model: 0.05\n",
      "Parsing ../samples/sample_TACACA.fq\n",
      "Loaded 20918 RAD-Tags; inserted 14637 elements into the RAD-Tags hash map.\n",
      "  0 reads contained uncalled nucleotides that were modified.\n",
      "  Mean coverage depth is 5; Std Dev: 15.4895 Max: 311\n",
      "Coverage mean: 5; stdev: 15.4895\n",
      "Deleveraging trigger: 20; Removal trigger: 36\n",
      "Calculating distance for removing repetitive stacks.\n",
      "  Distance allowed between stacks: 1\n",
      "  Using a k-mer length of 47\n",
      "  Number of kmers per sequence: 49\n",
      "  Miniumum number of k-mers to define a match: 2\n",
      "Removing repetitive stacks.\n",
      "  Removed 34 stacks.\n",
      "  895 stacks remain for merging.\n",
      "Calculating distance between stacks...\n",
      "  Distance allowed between stacks: 2\n",
      "  Using a k-mer length of 31\n",
      "  Number of kmers per sequence: 65\n",
      "  Miniumum number of k-mers to define a match: 3\n",
      "Merging stacks, maximum allowed distance: 2 nucleotide(s)\n",
      "  895 stacks merged into 837 stacks; deleveraged 10 stacks; removed 5 stacks.\n",
      "  Mean merged coverage depth is 5.97252; Std Dev: 18.3384; Max: 314\n",
      "Merging remainder radtags\n",
      "  15919 remainder sequences left to merge.\n",
      "  Distance allowed between stacks: 4\n",
      "  Using a k-mer length of 19\n",
      "  Number of kmers per sequence: 77\n",
      "  Miniumum number of k-mers to define a match: 1\n",
      "  Matched 1153 remainder reads; unable to match 14766 remainder reads.\n",
      "Number of utilized reads: 6152\n",
      "Writing results\n",
      "  Refetching sequencing IDs from ../samples/sample_TACACA.fq... read 20918 sequence IDs.\n"
     ]
    }
   ],
   "source": [
    "!ustacks -t fastq -f ../samples/sample_TACACA.fq -o ../ustacks -i 9 -d -r -m 3 -p 15"
   ]
  },
  {
   "cell_type": "code",
   "execution_count": 23,
   "metadata": {
    "collapsed": false
   },
   "outputs": [
    {
     "name": "stdout",
     "output_type": "stream",
     "text": [
      "Min depth of coverage to create a stack: 3\n",
      "Max distance allowed between stacks: 2\n",
      "Max distance allowed to align secondary reads: 4\n",
      "Max number of stacks allowed per de novo locus: 3\n",
      "Deleveraging algorithm: enabled\n",
      "Removal algorithm: enabled\n",
      "Model type: SNP\n",
      "Alpha significance level for model: 0.05\n",
      "Parsing ../samples/sample_CAGGCA.fq\n",
      "Loaded 121809 RAD-Tags; inserted 31684 elements into the RAD-Tags hash map.\n",
      "  0 reads contained uncalled nucleotides that were modified.\n",
      "  Mean coverage depth is 11; Std Dev: 52.766 Max: 3934\n",
      "Coverage mean: 11; stdev: 52.766\n",
      "Deleveraging trigger: 64; Removal trigger: 117\n",
      "Calculating distance for removing repetitive stacks.\n",
      "  Distance allowed between stacks: 1\n",
      "  Using a k-mer length of 47\n",
      "  Number of kmers per sequence: 49\n",
      "  Miniumum number of k-mers to define a match: 2\n",
      "Removing repetitive stacks.\n",
      "  Removed 150 stacks.\n",
      "  8404 stacks remain for merging.\n",
      "Calculating distance between stacks...\n",
      "  Distance allowed between stacks: 2\n",
      "  Using a k-mer length of 31\n",
      "  Number of kmers per sequence: 65\n",
      "  Miniumum number of k-mers to define a match: 3\n",
      "Merging stacks, maximum allowed distance: 2 nucleotide(s)\n",
      "  8404 stacks merged into 7425 stacks; deleveraged 68 stacks; removed 44 stacks.\n",
      "  Mean merged coverage depth is 12.8119; Std Dev: 65.4695; Max: 4151\n",
      "Merging remainder radtags\n",
      "  26681 remainder sequences left to merge.\n",
      "  Distance allowed between stacks: 4\n",
      "  Using a k-mer length of 19\n",
      "  Number of kmers per sequence: 77\n",
      "  Miniumum number of k-mers to define a match: 1\n",
      "  Matched 6611 remainder reads; unable to match 20070 remainder reads.\n",
      "Number of utilized reads: 101739\n",
      "Writing results\n",
      "  Refetching sequencing IDs from ../samples/sample_CAGGCA.fq... read 121809 sequence IDs.\n"
     ]
    }
   ],
   "source": [
    "!ustacks -t fastq -f ../samples/sample_CAGGCA.fq -o ../ustacks -i 10 -d -r -m 3 -p 15"
   ]
  },
  {
   "cell_type": "markdown",
   "metadata": {},
   "source": [
    "## CSTACKS"
   ]
  },
  {
   "cell_type": "markdown",
   "metadata": {},
   "source": [
    "Next create a catalog of all the SNPS, Alleles, and genes. This is used to compare the samples and create matches files for each. "
   ]
  },
  {
   "cell_type": "code",
   "execution_count": 24,
   "metadata": {
    "collapsed": false
   },
   "outputs": [
    {
     "name": "stdout",
     "output_type": "stream",
     "text": [
      "Number of mismatches allowed between stacks: 0\n",
      "Loci matched based on sequence identity.\n",
      "Constructing catalog from 10 samples.\n",
      "Initializing new catalog...\n",
      "  Parsing ../ustacks/sample_CACCTC.tags.tsv\n",
      "  Parsing ../ustacks/sample_CACCTC.snps.tsv\n",
      "  Parsing ../ustacks/sample_CACCTC.alleles.tsv\n",
      "Processing sample 2\n",
      "  Parsing ../ustacks/sample_CCCTAA.tags.tsv\n",
      "  Parsing ../ustacks/sample_CCCTAA.snps.tsv\n",
      "  Parsing ../ustacks/sample_CCCTAA.alleles.tsv\n",
      "Searching for sequence matches...\n",
      "  Number of kmers per sequence: 1\n",
      "  Miniumum number of k-mers to define a match: 1\n",
      "  7498 loci in the catalog, 8272 kmers in the catalog hash.\n",
      "Merging matches into catalog...\n",
      "  11 loci matched more than one catalog locus and were excluded.\n",
      "Processing sample 3\n",
      "  Parsing ../ustacks/sample_GCTCAA.tags.tsv\n",
      "  Parsing ../ustacks/sample_GCTCAA.snps.tsv\n",
      "  Parsing ../ustacks/sample_GCTCAA.alleles.tsv\n",
      "Searching for sequence matches...\n",
      "  Number of kmers per sequence: 1\n",
      "  Miniumum number of k-mers to define a match: 1\n",
      "  12854 loci in the catalog, 14643 kmers in the catalog hash.\n",
      "Merging matches into catalog...\n",
      "  109 loci matched more than one catalog locus and were excluded.\n",
      "Processing sample 4\n",
      "  Parsing ../ustacks/sample_GTGTAA.tags.tsv\n",
      "  Parsing ../ustacks/sample_GTGTAA.snps.tsv\n",
      "  Parsing ../ustacks/sample_GTGTAA.alleles.tsv\n",
      "Searching for sequence matches...\n",
      "  Number of kmers per sequence: 1\n",
      "  Miniumum number of k-mers to define a match: 1\n",
      "  17020 loci in the catalog, 19707 kmers in the catalog hash.\n",
      "Merging matches into catalog...\n",
      "  222 loci matched more than one catalog locus and were excluded.\n",
      "Processing sample 5\n",
      "  Parsing ../ustacks/sample_ACATAC.tags.tsv\n",
      "  Parsing ../ustacks/sample_ACATAC.snps.tsv\n",
      "  Parsing ../ustacks/sample_ACATAC.alleles.tsv\n",
      "Searching for sequence matches...\n",
      "  Number of kmers per sequence: 1\n",
      "  Miniumum number of k-mers to define a match: 1\n",
      "  19839 loci in the catalog, 23182 kmers in the catalog hash.\n",
      "Merging matches into catalog...\n",
      "  232 loci matched more than one catalog locus and were excluded.\n",
      "Processing sample 6\n",
      "  Parsing ../ustacks/sample_ACCATG.tags.tsv\n",
      "  Parsing ../ustacks/sample_ACCATG.snps.tsv\n",
      "  Parsing ../ustacks/sample_ACCATG.alleles.tsv\n",
      "Searching for sequence matches...\n",
      "  Number of kmers per sequence: 1\n",
      "  Miniumum number of k-mers to define a match: 1\n",
      "  23268 loci in the catalog, 27289 kmers in the catalog hash.\n",
      "Merging matches into catalog...\n",
      "  266 loci matched more than one catalog locus and were excluded.\n",
      "Processing sample 7\n",
      "  Parsing ../ustacks/sample_ACCCCC.tags.tsv\n",
      "  Parsing ../ustacks/sample_ACCCCC.snps.tsv\n",
      "  Parsing ../ustacks/sample_ACCCCC.alleles.tsv\n",
      "Searching for sequence matches...\n",
      "  Number of kmers per sequence: 1\n",
      "  Miniumum number of k-mers to define a match: 1\n",
      "  25401 loci in the catalog, 29922 kmers in the catalog hash.\n",
      "Merging matches into catalog...\n",
      "  318 loci matched more than one catalog locus and were excluded.\n",
      "Processing sample 8\n",
      "  Parsing ../ustacks/sample_CAAAAA.tags.tsv\n",
      "  Parsing ../ustacks/sample_CAAAAA.snps.tsv\n",
      "  Parsing ../ustacks/sample_CAAAAA.alleles.tsv\n",
      "Searching for sequence matches...\n",
      "  Number of kmers per sequence: 1\n",
      "  Miniumum number of k-mers to define a match: 1\n",
      "  26427 loci in the catalog, 31231 kmers in the catalog hash.\n",
      "Merging matches into catalog...\n",
      "  92 loci matched more than one catalog locus and were excluded.\n",
      "Processing sample 9\n",
      "  Parsing ../ustacks/sample_TACACA.tags.tsv\n",
      "  Parsing ../ustacks/sample_TACACA.snps.tsv\n",
      "  Parsing ../ustacks/sample_TACACA.alleles.tsv\n",
      "Searching for sequence matches...\n",
      "  Number of kmers per sequence: 1\n",
      "  Miniumum number of k-mers to define a match: 1\n",
      "  27106 loci in the catalog, 32044 kmers in the catalog hash.\n",
      "Merging matches into catalog...\n",
      "  11 loci matched more than one catalog locus and were excluded.\n",
      "Processing sample 10\n",
      "  Parsing ../ustacks/sample_CAGGCA.tags.tsv\n",
      "  Parsing ../ustacks/sample_CAGGCA.snps.tsv\n",
      "  Parsing ../ustacks/sample_CAGGCA.alleles.tsv\n",
      "Searching for sequence matches...\n",
      "  Number of kmers per sequence: 1\n",
      "  Miniumum number of k-mers to define a match: 1\n",
      "  27481 loci in the catalog, 32481 kmers in the catalog hash.\n",
      "Merging matches into catalog...\n",
      "  165 loci matched more than one catalog locus and were excluded.\n",
      "Writing catalog...\n"
     ]
    }
   ],
   "source": [
    "!cstacks -b 1 -o ../ustacks -s ../ustacks/sample_CACCTC -s ../ustacks/sample_CCCTAA -s ../ustacks/sample_GCTCAA -s ../ustacks/sample_GTGTAA  \\\n",
    "-s ../ustacks/sample_ACATAC -s ../ustacks/sample_ACCATG -s ../ustacks/sample_ACCCCC -s ../ustacks/sample_CAAAAA -s ../ustacks/sample_TACACA \\\n",
    "-s ../ustacks/sample_CAGGCA -p 15"
   ]
  },
  {
   "cell_type": "markdown",
   "metadata": {},
   "source": [
    "## SSTACKS"
   ]
  },
  {
   "cell_type": "markdown",
   "metadata": {},
   "source": [
    "sstacks compares each file with the catalogs. This will generate matches files for each sample."
   ]
  },
  {
   "cell_type": "code",
   "execution_count": 25,
   "metadata": {
    "collapsed": false
   },
   "outputs": [
    {
     "name": "stdout",
     "output_type": "stream",
     "text": [
      "  Parsing ../ustacks/batch_1.catalog.tags.tsv\n",
      "  Parsing ../ustacks/batch_1.catalog.snps.tsv\n",
      "  Parsing ../ustacks/batch_1.catalog.alleles.tsv\n",
      "  Parsing ../ustacks/sample_CACCTC.tags.tsv\n",
      "  Parsing ../ustacks/sample_CACCTC.snps.tsv\n",
      "  Parsing ../ustacks/sample_CACCTC.alleles.tsv\n",
      "Searching for sequence matches...\n",
      "7498 stacks compared against the catalog containing 28771 loci.\n",
      "  7498 matching loci, 4 contained no verified haplotypes.\n",
      "  4 loci matched more than one catalog locus and were excluded.\n",
      "  0 loci contained SNPs unaccounted for in the catalog and were excluded.\n",
      "  8274 total haplotypes examined from matching loci, 8265 verified.\n",
      "Outputing to file ../ustacks/sample_CACCTC.matches.tsv\n"
     ]
    }
   ],
   "source": [
    "!sstacks -b 1 -c ../ustacks/batch_1 -s ../ustacks/sample_CACCTC -o ../ustacks -p 15"
   ]
  },
  {
   "cell_type": "code",
   "execution_count": 26,
   "metadata": {
    "collapsed": false
   },
   "outputs": [
    {
     "name": "stdout",
     "output_type": "stream",
     "text": [
      "  Parsing ../ustacks/batch_1.catalog.tags.tsv\n",
      "  Parsing ../ustacks/batch_1.catalog.snps.tsv\n",
      "  Parsing ../ustacks/batch_1.catalog.alleles.tsv\n",
      "  Parsing ../ustacks/sample_CCCTAA.tags.tsv\n",
      "  Parsing ../ustacks/sample_CCCTAA.snps.tsv\n",
      "  Parsing ../ustacks/sample_CCCTAA.alleles.tsv\n",
      "Searching for sequence matches...\n",
      "9721 stacks compared against the catalog containing 28771 loci.\n",
      "  9721 matching loci, 11 contained no verified haplotypes.\n",
      "  11 loci matched more than one catalog locus and were excluded.\n",
      "  0 loci contained SNPs unaccounted for in the catalog and were excluded.\n",
      "  10873 total haplotypes examined from matching loci, 10849 verified.\n",
      "Outputing to file ../ustacks/sample_CCCTAA.matches.tsv\n"
     ]
    }
   ],
   "source": [
    "!sstacks -b 1 -c ../ustacks/batch_1 -s ../ustacks/sample_CCCTAA -o ../ustacks -p 15"
   ]
  },
  {
   "cell_type": "code",
   "execution_count": 27,
   "metadata": {
    "collapsed": false
   },
   "outputs": [
    {
     "name": "stdout",
     "output_type": "stream",
     "text": [
      "  Parsing ../ustacks/batch_1.catalog.tags.tsv\n",
      "  Parsing ../ustacks/batch_1.catalog.snps.tsv\n",
      "  Parsing ../ustacks/batch_1.catalog.alleles.tsv\n",
      "  Parsing ../ustacks/sample_GCTCAA.tags.tsv\n",
      "  Parsing ../ustacks/sample_GCTCAA.snps.tsv\n",
      "  Parsing ../ustacks/sample_GCTCAA.alleles.tsv\n",
      "Searching for sequence matches...\n",
      "10983 stacks compared against the catalog containing 28771 loci.\n",
      "  10983 matching loci, 113 contained no verified haplotypes.\n",
      "  113 loci matched more than one catalog locus and were excluded.\n",
      "  0 loci contained SNPs unaccounted for in the catalog and were excluded.\n",
      "  12330 total haplotypes examined from matching loci, 12094 verified.\n",
      "Outputing to file ../ustacks/sample_GCTCAA.matches.tsv\n"
     ]
    }
   ],
   "source": [
    "!sstacks -b 1 -c ../ustacks/batch_1 -s ../ustacks/sample_GCTCAA -o ../ustacks -p 15"
   ]
  },
  {
   "cell_type": "code",
   "execution_count": 28,
   "metadata": {
    "collapsed": false
   },
   "outputs": [
    {
     "name": "stdout",
     "output_type": "stream",
     "text": [
      "  Parsing ../ustacks/batch_1.catalog.tags.tsv\n",
      "  Parsing ../ustacks/batch_1.catalog.snps.tsv\n",
      "  Parsing ../ustacks/batch_1.catalog.alleles.tsv\n",
      "  Parsing ../ustacks/sample_GTGTAA.tags.tsv\n",
      "  Parsing ../ustacks/sample_GTGTAA.snps.tsv\n",
      "  Parsing ../ustacks/sample_GTGTAA.alleles.tsv\n",
      "Searching for sequence matches...\n",
      "11200 stacks compared against the catalog containing 28771 loci.\n",
      "  11200 matching loci, 222 contained no verified haplotypes.\n",
      "  222 loci matched more than one catalog locus and were excluded.\n",
      "  0 loci contained SNPs unaccounted for in the catalog and were excluded.\n",
      "  12608 total haplotypes examined from matching loci, 12133 verified.\n",
      "Outputing to file ../ustacks/sample_GTGTAA.matches.tsv\n"
     ]
    }
   ],
   "source": [
    "!sstacks -b 1 -c ../ustacks/batch_1 -s ../ustacks/sample_GTGTAA -o ../ustacks -p 15"
   ]
  },
  {
   "cell_type": "code",
   "execution_count": 29,
   "metadata": {
    "collapsed": false
   },
   "outputs": [
    {
     "name": "stdout",
     "output_type": "stream",
     "text": [
      "  Parsing ../ustacks/batch_1.catalog.tags.tsv\n",
      "  Parsing ../ustacks/batch_1.catalog.snps.tsv\n",
      "  Parsing ../ustacks/batch_1.catalog.alleles.tsv\n",
      "  Parsing ../ustacks/sample_ACATAC.tags.tsv\n",
      "  Parsing ../ustacks/sample_ACATAC.snps.tsv\n",
      "  Parsing ../ustacks/sample_ACATAC.alleles.tsv\n",
      "Searching for sequence matches...\n",
      "11884 stacks compared against the catalog containing 28771 loci.\n",
      "  11884 matching loci, 232 contained no verified haplotypes.\n",
      "  232 loci matched more than one catalog locus and were excluded.\n",
      "  0 loci contained SNPs unaccounted for in the catalog and were excluded.\n",
      "  13346 total haplotypes examined from matching loci, 12858 verified.\n",
      "Outputing to file ../ustacks/sample_ACATAC.matches.tsv\n"
     ]
    }
   ],
   "source": [
    "!sstacks -b 1 -c ../ustacks/batch_1 -s ../ustacks/sample_ACATAC -o ../ustacks -p 15"
   ]
  },
  {
   "cell_type": "code",
   "execution_count": 30,
   "metadata": {
    "collapsed": false
   },
   "outputs": [
    {
     "name": "stdout",
     "output_type": "stream",
     "text": [
      "  Parsing ../ustacks/batch_1.catalog.tags.tsv\n",
      "  Parsing ../ustacks/batch_1.catalog.snps.tsv\n",
      "  Parsing ../ustacks/batch_1.catalog.alleles.tsv\n",
      "  Parsing ../ustacks/sample_ACCATG.tags.tsv\n",
      "  Parsing ../ustacks/sample_ACCATG.snps.tsv\n",
      "  Parsing ../ustacks/sample_ACCATG.alleles.tsv\n",
      "Searching for sequence matches...\n",
      "11123 stacks compared against the catalog containing 28771 loci.\n",
      "  11123 matching loci, 266 contained no verified haplotypes.\n",
      "  266 loci matched more than one catalog locus and were excluded.\n",
      "  0 loci contained SNPs unaccounted for in the catalog and were excluded.\n",
      "  12517 total haplotypes examined from matching loci, 11963 verified.\n",
      "Outputing to file ../ustacks/sample_ACCATG.matches.tsv\n"
     ]
    }
   ],
   "source": [
    "!sstacks -b 1 -c ../ustacks/batch_1 -s ../ustacks/sample_ACCATG -o ../ustacks -p 15"
   ]
  },
  {
   "cell_type": "code",
   "execution_count": 31,
   "metadata": {
    "collapsed": false
   },
   "outputs": [
    {
     "name": "stdout",
     "output_type": "stream",
     "text": [
      "  Parsing ../ustacks/batch_1.catalog.tags.tsv\n",
      "  Parsing ../ustacks/batch_1.catalog.snps.tsv\n",
      "  Parsing ../ustacks/batch_1.catalog.alleles.tsv\n",
      "  Parsing ../ustacks/sample_ACCCCC.tags.tsv\n",
      "  Parsing ../ustacks/sample_ACCCCC.snps.tsv\n",
      "  Parsing ../ustacks/sample_ACCCCC.alleles.tsv\n",
      "Searching for sequence matches...\n",
      "10873 stacks compared against the catalog containing 28771 loci.\n",
      "  10873 matching loci, 318 contained no verified haplotypes.\n",
      "  318 loci matched more than one catalog locus and were excluded.\n",
      "  0 loci contained SNPs unaccounted for in the catalog and were excluded.\n",
      "  12278 total haplotypes examined from matching loci, 11617 verified.\n",
      "Outputing to file ../ustacks/sample_ACCCCC.matches.tsv\n"
     ]
    }
   ],
   "source": [
    "!sstacks -b 1 -c ../ustacks/batch_1 -s ../ustacks/sample_ACCCCC -o ../ustacks -p 15"
   ]
  },
  {
   "cell_type": "code",
   "execution_count": 32,
   "metadata": {
    "collapsed": false
   },
   "outputs": [
    {
     "name": "stdout",
     "output_type": "stream",
     "text": [
      "  Parsing ../ustacks/batch_1.catalog.tags.tsv\n",
      "  Parsing ../ustacks/batch_1.catalog.snps.tsv\n",
      "  Parsing ../ustacks/batch_1.catalog.alleles.tsv\n",
      "  Parsing ../ustacks/sample_CAAAAA.tags.tsv\n",
      "  Parsing ../ustacks/sample_CAAAAA.snps.tsv\n",
      "  Parsing ../ustacks/sample_CAAAAA.alleles.tsv\n",
      "Searching for sequence matches...\n",
      "5135 stacks compared against the catalog containing 28771 loci.\n",
      "  5135 matching loci, 94 contained no verified haplotypes.\n",
      "  94 loci matched more than one catalog locus and were excluded.\n",
      "  0 loci contained SNPs unaccounted for in the catalog and were excluded.\n",
      "  5575 total haplotypes examined from matching loci, 5383 verified.\n",
      "Outputing to file ../ustacks/sample_CAAAAA.matches.tsv\n"
     ]
    }
   ],
   "source": [
    "!sstacks -b 1 -c ../ustacks/batch_1 -s ../ustacks/sample_CAAAAA -o ../ustacks -p 15"
   ]
  },
  {
   "cell_type": "code",
   "execution_count": 33,
   "metadata": {
    "collapsed": false
   },
   "outputs": [
    {
     "name": "stdout",
     "output_type": "stream",
     "text": [
      "  Parsing ../ustacks/batch_1.catalog.tags.tsv\n",
      "  Parsing ../ustacks/batch_1.catalog.snps.tsv\n",
      "  Parsing ../ustacks/batch_1.catalog.alleles.tsv\n",
      "  Parsing ../ustacks/sample_TACACA.tags.tsv\n",
      "  Parsing ../ustacks/sample_TACACA.snps.tsv\n",
      "  Parsing ../ustacks/sample_TACACA.alleles.tsv\n",
      "Searching for sequence matches...\n",
      "821 stacks compared against the catalog containing 28771 loci.\n",
      "  821 matching loci, 11 contained no verified haplotypes.\n",
      "  11 loci matched more than one catalog locus and were excluded.\n",
      "  0 loci contained SNPs unaccounted for in the catalog and were excluded.\n",
      "  905 total haplotypes examined from matching loci, 882 verified.\n",
      "Outputing to file ../ustacks/sample_TACACA.matches.tsv\n"
     ]
    }
   ],
   "source": [
    "!sstacks -b 1 -c ../ustacks/batch_1 -s ../ustacks/sample_TACACA -o ../ustacks -p 15"
   ]
  },
  {
   "cell_type": "code",
   "execution_count": 34,
   "metadata": {
    "collapsed": false
   },
   "outputs": [
    {
     "name": "stdout",
     "output_type": "stream",
     "text": [
      "  Parsing ../ustacks/batch_1.catalog.tags.tsv\n",
      "  Parsing ../ustacks/batch_1.catalog.snps.tsv\n",
      "  Parsing ../ustacks/batch_1.catalog.alleles.tsv\n",
      "  Parsing ../ustacks/sample_CAGGCA.tags.tsv\n",
      "  Parsing ../ustacks/sample_CAGGCA.snps.tsv\n",
      "  Parsing ../ustacks/sample_CAGGCA.alleles.tsv\n",
      "Searching for sequence matches...\n",
      "7367 stacks compared against the catalog containing 28771 loci.\n",
      "  7367 matching loci, 165 contained no verified haplotypes.\n",
      "  165 loci matched more than one catalog locus and were excluded.\n",
      "  0 loci contained SNPs unaccounted for in the catalog and were excluded.\n",
      "  8170 total haplotypes examined from matching loci, 7830 verified.\n",
      "Outputing to file ../ustacks/sample_CAGGCA.matches.tsv\n"
     ]
    }
   ],
   "source": [
    "!sstacks -b 1 -c ../ustacks/batch_1 -s ../ustacks/sample_CAGGCA -o ../ustacks -p 15"
   ]
  },
  {
   "cell_type": "code",
   "execution_count": 3,
   "metadata": {
    "collapsed": false
   },
   "outputs": [
    {
     "name": "stdout",
     "output_type": "stream",
     "text": [
      "Traceback (most recent call last):\n",
      "  File \"/usr/local/bioinformatics/anaconda/bin/ipython\", line 6, in <module>\n",
      "    sys.exit(start_ipython())\n",
      "  File \"/usr/local/bioinformatics/anaconda/lib/python2.7/site-packages/IPython/__init__.py\", line 120, in start_ipython\n",
      "    return launch_new_instance(argv=argv, **kwargs)\n",
      "  File \"/usr/local/bioinformatics/anaconda/lib/python2.7/site-packages/IPython/config/application.py\", line 573, in launch_instance\n",
      "    app.initialize(argv)\n",
      "  File \"<string>\", line 2, in initialize\n",
      "  File \"/usr/local/bioinformatics/anaconda/lib/python2.7/site-packages/IPython/config/application.py\", line 75, in catch_config_error\n",
      "    return method(app, *args, **kwargs)\n",
      "  File \"/usr/local/bioinformatics/anaconda/lib/python2.7/site-packages/IPython/terminal/ipapp.py\", line 321, in initialize\n",
      "    super(TerminalIPythonApp, self).initialize(argv)\n",
      "  File \"<string>\", line 2, in initialize\n",
      "  File \"/usr/local/bioinformatics/anaconda/lib/python2.7/site-packages/IPython/config/application.py\", line 75, in catch_config_error\n",
      "    return method(app, *args, **kwargs)\n",
      "  File \"/usr/local/bioinformatics/anaconda/lib/python2.7/site-packages/IPython/core/application.py\", line 369, in initialize\n",
      "    self.parse_command_line(argv)\n",
      "  File \"/usr/local/bioinformatics/anaconda/lib/python2.7/site-packages/IPython/terminal/ipapp.py\", line 316, in parse_command_line\n",
      "    return super(TerminalIPythonApp, self).parse_command_line(argv)\n",
      "  File \"<string>\", line 2, in parse_command_line\n",
      "  File \"/usr/local/bioinformatics/anaconda/lib/python2.7/site-packages/IPython/config/application.py\", line 75, in catch_config_error\n",
      "    return method(app, *args, **kwargs)\n",
      "  File \"/usr/local/bioinformatics/anaconda/lib/python2.7/site-packages/IPython/config/application.py\", line 471, in parse_command_line\n",
      "    return self.initialize_subcommand(subc, subargv)\n",
      "  File \"<string>\", line 2, in initialize_subcommand\n",
      "  File \"/usr/local/bioinformatics/anaconda/lib/python2.7/site-packages/IPython/config/application.py\", line 75, in catch_config_error\n",
      "    return method(app, *args, **kwargs)\n",
      "  File \"/usr/local/bioinformatics/anaconda/lib/python2.7/site-packages/IPython/config/application.py\", line 402, in initialize_subcommand\n",
      "    subapp = import_item(subapp)\n",
      "  File \"/usr/local/bioinformatics/anaconda/lib/python2.7/site-packages/IPython/utils/importstring.py\", line 42, in import_item\n",
      "    module = __import__(package, fromlist=[obj])\n",
      "  File \"/usr/local/bioinformatics/anaconda/lib/python2.7/site-packages/IPython/nbconvert/__init__.py\", line 3, in <module>\n",
      "    from .exporters import *\n",
      "  File \"/usr/local/bioinformatics/anaconda/lib/python2.7/site-packages/IPython/nbconvert/exporters/__init__.py\", line 1, in <module>\n",
      "    from .export import *\n",
      "  File \"/usr/local/bioinformatics/anaconda/lib/python2.7/site-packages/IPython/nbconvert/exporters/export.py\", line 13, in <module>\n",
      "    from .templateexporter import TemplateExporter\n",
      "  File \"/usr/local/bioinformatics/anaconda/lib/python2.7/site-packages/IPython/nbconvert/exporters/templateexporter.py\", line 30, in <module>\n",
      "    from IPython.nbconvert import filters\n",
      "  File \"/usr/local/bioinformatics/anaconda/lib/python2.7/site-packages/IPython/nbconvert/filters/__init__.py\", line 6, in <module>\n",
      "    from .markdown import *\n",
      "  File \"/usr/local/bioinformatics/anaconda/lib/python2.7/site-packages/IPython/nbconvert/filters/markdown.py\", line 17, in <module>\n",
      "    import mistune\n",
      "ImportError: No module named mistune\n"
     ]
    }
   ],
   "source": [
    "!ipython nbconvert Stacks Process.ipynb --to html"
   ]
  }
 ],
 "metadata": {
  "kernelspec": {
   "display_name": "Python 2",
   "language": "python",
   "name": "python2"
  },
  "language_info": {
   "codemirror_mode": {
    "name": "ipython",
    "version": 2
   },
   "file_extension": ".py",
   "mimetype": "text/x-python",
   "name": "python",
   "nbconvert_exporter": "python",
   "pygments_lexer": "ipython2",
   "version": "2.7.9"
  }
 },
 "nbformat": 4,
 "nbformat_minor": 0
}
